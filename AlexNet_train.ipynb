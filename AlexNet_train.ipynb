{
  "nbformat": 4,
  "nbformat_minor": 0,
  "metadata": {
    "colab": {
      "name": "AlexNet_train.ipynb",
      "version": "0.3.2",
      "provenance": [],
      "collapsed_sections": []
    },
    "kernelspec": {
      "name": "python3",
      "display_name": "Python 3"
    },
    "accelerator": "GPU"
  },
  "cells": [
    {
      "cell_type": "code",
      "metadata": {
        "id": "t_7iF3tma-9D",
        "colab_type": "code",
        "outputId": "48e0683c-4be2-43e7-8407-6713020dd2b4",
        "colab": {
          "base_uri": "https://localhost:8080/",
          "height": 34
        }
      },
      "source": [
        "import cv2, os, keras, pickle\n",
        "import numpy as np\n",
        "import pandas as pd\n",
        "import matplotlib.pyplot as plt\n",
        "from keras.models import Sequential, load_model, model_from_json, Model\n",
        "from keras.layers import LSTM, Input, Dense,Embedding, Dropout, GRU, Conv1D, MaxPooling1D, Flatten, TimeDistributed, BatchNormalization, Conv2D, MaxPooling2D, Activation\n",
        "from keras import regularizers\n",
        "from sklearn.model_selection import train_test_split\n",
        "from keras.preprocessing.image import ImageDataGenerator"
      ],
      "execution_count": 0,
      "outputs": [
        {
          "output_type": "stream",
          "text": [
            "Using TensorFlow backend.\n"
          ],
          "name": "stderr"
        }
      ]
    },
    {
      "cell_type": "code",
      "metadata": {
        "id": "y5RDoFEPHv8e",
        "colab_type": "code",
        "outputId": "b0761480-9d45-4c0f-cb41-8f427633695f",
        "colab": {
          "base_uri": "https://localhost:8080/",
          "height": 122
        }
      },
      "source": [
        "from google.colab import drive\n",
        "drive.mount('/content/drive')"
      ],
      "execution_count": 0,
      "outputs": [
        {
          "output_type": "stream",
          "text": [
            "Go to this URL in a browser: https://accounts.google.com/o/oauth2/auth?client_id=947318989803-6bn6qk8qdgf4n4g3pfee6491hc0brc4i.apps.googleusercontent.com&redirect_uri=urn%3Aietf%3Awg%3Aoauth%3A2.0%3Aoob&scope=email%20https%3A%2F%2Fwww.googleapis.com%2Fauth%2Fdocs.test%20https%3A%2F%2Fwww.googleapis.com%2Fauth%2Fdrive%20https%3A%2F%2Fwww.googleapis.com%2Fauth%2Fdrive.photos.readonly%20https%3A%2F%2Fwww.googleapis.com%2Fauth%2Fpeopleapi.readonly&response_type=code\n",
            "\n",
            "Enter your authorization code:\n",
            "··········\n",
            "Mounted at /content/drive\n"
          ],
          "name": "stdout"
        }
      ]
    },
    {
      "cell_type": "code",
      "metadata": {
        "id": "-fuMkyszb4yO",
        "colab_type": "code",
        "outputId": "8c0a5ced-ff5a-437a-cb9c-ac2785e77b94",
        "colab": {
          "base_uri": "https://localhost:8080/",
          "height": 68
        }
      },
      "source": [
        "data_file = '/content/drive/My Drive/pickles/train_berkeley_skeleton_images.pickle' # redefined varaible in case you have completed above steps previously.\n",
        "print('Trying to load pickle from %s' % data_file)\n",
        "with open(data_file, 'rb') as file:\n",
        "    svhn_datasets = pickle.load(file)\n",
        "    train_dataset = svhn_datasets['train_dataset']]\n",
        "\n",
        "print('Pickle Loaded Successfully!')\n",
        "del svhn_datasets\n",
        "x_train = test_dataset['X_train']\n",
        "\n",
        "x_all = np.asarray(x_train)\n",
        "Y = pd.read_csv('/content/drive/My Drive/y_train.csv', header=None).values\n",
        "print(x_all.shape)\n",
        "print(Y.shape)\n",
        "\n",
        "X=np.expand_dims(x_all, axis=3)\n",
        "\n",
        "# Y = np.array(list(map(one_hot_vec, Y)))\n",
        "Y = keras.utils.to_categorical(Y, num_classes=11)\n",
        "print(X.shape)\n",
        "print(Y.shape)"
      ],
      "execution_count": 0,
      "outputs": [
        {
          "output_type": "stream",
          "text": [
            "Trying to load pickle from /content/drive/My Drive/train_NTU.pickle\n",
            "Pickle Loaded Successfully!\n",
            "82447\n"
          ],
          "name": "stdout"
        }
      ]
    },
    {
      "cell_type": "code",
      "metadata": {
        "id": "NULcVM4KCFbS",
        "colab_type": "code",
        "colab": {}
      },
      "source": [
        "X_train, X_test, Y_train, Y_test = train_test_split(X, Y, test_size=0.2, random_state=42)"
      ],
      "execution_count": 0,
      "outputs": []
    },
    {
      "cell_type": "code",
      "metadata": {
        "id": "I7ax5C4bfYUb",
        "colab_type": "code",
        "outputId": "b4df65bc-0911-4cba-b026-1321c92d6388",
        "colab": {
          "base_uri": "https://localhost:8080/",
          "height": 1000
        }
      },
      "source": [
        "def make_model():\n",
        "    weight_decay = 1e-4\n",
        "    model = Sequential()\n",
        "    model.add(Conv2D(32, (3,3), padding='same', kernel_regularizer=regularizers.l2(weight_decay), input_shape=(64,64,1)))\n",
        "    model.add(Activation('elu'))\n",
        "    model.add(BatchNormalization())\n",
        "    model.add(Conv2D(32, (3,3), padding='same', kernel_regularizer=regularizers.l2(weight_decay)))\n",
        "    model.add(Activation('elu'))\n",
        "    model.add(BatchNormalization())\n",
        "    model.add(MaxPooling2D(pool_size=(2,2)))\n",
        "    model.add(Dropout(0.2))\n",
        "\n",
        "    model.add(Conv2D(64, (3,3), padding='same', kernel_regularizer=regularizers.l2(weight_decay)))\n",
        "    model.add(Activation('elu'))\n",
        "    model.add(BatchNormalization())\n",
        "    model.add(Conv2D(64, (3,3), padding='same', kernel_regularizer=regularizers.l2(weight_decay)))\n",
        "    model.add(Activation('elu'))\n",
        "    model.add(BatchNormalization())\n",
        "    model.add(MaxPooling2D(pool_size=(2,2)))\n",
        "    model.add(Dropout(0.3))\n",
        "\n",
        "    model.add(Conv2D(128, (3,3), padding='same', kernel_regularizer=regularizers.l2(weight_decay)))\n",
        "    model.add(Activation('elu'))\n",
        "    model.add(BatchNormalization())\n",
        "    model.add(Conv2D(128, (3,3), padding='same', kernel_regularizer=regularizers.l2(weight_decay)))\n",
        "    model.add(Activation('elu'))\n",
        "    model.add(BatchNormalization())\n",
        "    model.add(MaxPooling2D(pool_size=(2,2)))\n",
        "    model.add(Dropout(0.4))\n",
        "\n",
        "    model.add(Flatten(name='ars') )\n",
        "    \n",
        "    model.add(Dense(11, activation='softmax'))\n",
        "\n",
        "#     opt = adam(lr=lr, decay=1e-4)\n",
        "#     opt = SGD(lr=lr, decay=1e-4, momentum=0.9)\n",
        "    model.compile(loss = 'categorical_crossentropy', optimizer='adadelta', metrics=['accuracy'])\n",
        "    print(model.summary())\n",
        "    return model\n",
        "  \n",
        "# model = make_model()\n",
        "\n",
        "\n",
        "model = make_model(lr=0.005)\n",
        "datagen = ImageDataGenerator(\n",
        "    rotation_range=15,\n",
        "    width_shift_range=0.1,\n",
        "    height_shift_range=0.1,\n",
        "    horizontal_flip=True,\n",
        "    )\n",
        "datagen.fit(X_train)"
      ],
      "execution_count": 0,
      "outputs": [
        {
          "output_type": "stream",
          "text": [
            "_________________________________________________________________\n",
            "Layer (type)                 Output Shape              Param #   \n",
            "=================================================================\n",
            "conv2d_19 (Conv2D)           (None, 34, 60, 32)        320       \n",
            "_________________________________________________________________\n",
            "activation_19 (Activation)   (None, 34, 60, 32)        0         \n",
            "_________________________________________________________________\n",
            "batch_normalization_19 (Batc (None, 34, 60, 32)        128       \n",
            "_________________________________________________________________\n",
            "conv2d_20 (Conv2D)           (None, 34, 60, 32)        9248      \n",
            "_________________________________________________________________\n",
            "activation_20 (Activation)   (None, 34, 60, 32)        0         \n",
            "_________________________________________________________________\n",
            "batch_normalization_20 (Batc (None, 34, 60, 32)        128       \n",
            "_________________________________________________________________\n",
            "max_pooling2d_10 (MaxPooling (None, 17, 30, 32)        0         \n",
            "_________________________________________________________________\n",
            "dropout_10 (Dropout)         (None, 17, 30, 32)        0         \n",
            "_________________________________________________________________\n",
            "conv2d_21 (Conv2D)           (None, 17, 30, 64)        18496     \n",
            "_________________________________________________________________\n",
            "activation_21 (Activation)   (None, 17, 30, 64)        0         \n",
            "_________________________________________________________________\n",
            "batch_normalization_21 (Batc (None, 17, 30, 64)        256       \n",
            "_________________________________________________________________\n",
            "conv2d_22 (Conv2D)           (None, 17, 30, 64)        36928     \n",
            "_________________________________________________________________\n",
            "activation_22 (Activation)   (None, 17, 30, 64)        0         \n",
            "_________________________________________________________________\n",
            "batch_normalization_22 (Batc (None, 17, 30, 64)        256       \n",
            "_________________________________________________________________\n",
            "max_pooling2d_11 (MaxPooling (None, 8, 15, 64)         0         \n",
            "_________________________________________________________________\n",
            "dropout_11 (Dropout)         (None, 8, 15, 64)         0         \n",
            "_________________________________________________________________\n",
            "conv2d_23 (Conv2D)           (None, 8, 15, 128)        73856     \n",
            "_________________________________________________________________\n",
            "activation_23 (Activation)   (None, 8, 15, 128)        0         \n",
            "_________________________________________________________________\n",
            "batch_normalization_23 (Batc (None, 8, 15, 128)        512       \n",
            "_________________________________________________________________\n",
            "conv2d_24 (Conv2D)           (None, 8, 15, 128)        147584    \n",
            "_________________________________________________________________\n",
            "activation_24 (Activation)   (None, 8, 15, 128)        0         \n",
            "_________________________________________________________________\n",
            "batch_normalization_24 (Batc (None, 8, 15, 128)        512       \n",
            "_________________________________________________________________\n",
            "max_pooling2d_12 (MaxPooling (None, 4, 7, 128)         0         \n",
            "_________________________________________________________________\n",
            "dropout_12 (Dropout)         (None, 4, 7, 128)         0         \n",
            "_________________________________________________________________\n",
            "ars (Flatten)                (None, 3584)              0         \n",
            "_________________________________________________________________\n",
            "dense_4 (Dense)              (None, 60)                215100    \n",
            "=================================================================\n",
            "Total params: 503,324\n",
            "Trainable params: 502,428\n",
            "Non-trainable params: 896\n",
            "_________________________________________________________________\n",
            "None\n"
          ],
          "name": "stdout"
        }
      ]
    },
    {
      "cell_type": "code",
      "metadata": {
        "id": "pB-i9RycflXf",
        "colab_type": "code",
        "outputId": "05a343ed-b419-448f-ab00-99ce8dfd0abf",
        "colab": {
          "base_uri": "https://localhost:8080/",
          "height": 967
        }
      },
      "source": [
        "batch_size=64\n",
        "history = model.fit_generator(datagen.flow(X_train, Y_train, batch_size=batch_size),\\\n",
        "                    steps_per_epoch=X_train.shape[0] // batch_size,epochs=10,\\\n",
        "                    verbose=1,validation_data=(X_test,Y_test))\n",
        "# history = model.fit(X_train, Y_train, validation_data = (X_test, Y_test), epochs=10, batch_size=64)\n",
        "print(history.history.keys())\n",
        "plt.plot(history.history['acc'])\n",
        "plt.plot(history.history['val_acc'])\n",
        "plt.title('model accuracy')\n",
        "plt.ylabel('accuracy')\n",
        "plt.xlabel('epoch')\n",
        "plt.legend(['train', 'validation'], loc='upper left')\n",
        "plt.show()\n",
        "# summarize history for loss\n",
        "plt.plot(history.history['loss'])\n",
        "plt.plot(history.history['val_loss'])\n",
        "plt.title('model loss')\n",
        "plt.ylabel('loss')\n",
        "plt.xlabel('epoch')\n",
        "plt.legend(['train', 'validation'], loc='upper left')\n",
        "plt.show()"
      ],
      "execution_count": 0,
      "outputs": [
        {
          "output_type": "stream",
          "text": [
            "Train on 65957 samples, validate on 16490 samples\n",
            "Epoch 1/10\n",
            "65957/65957 [==============================] - 25s 382us/step - loss: 3.9234 - acc: 0.1624 - val_loss: 7.2095 - val_acc: 0.0631\n",
            "Epoch 2/10\n",
            "65957/65957 [==============================] - 24s 356us/step - loss: 1.9269 - acc: 0.4798 - val_loss: 14.4787 - val_acc: 0.0578\n",
            "Epoch 3/10\n",
            "65957/65957 [==============================] - 24s 358us/step - loss: 1.3988 - acc: 0.6214 - val_loss: 3.5765 - val_acc: 0.2148\n",
            "Epoch 4/10\n",
            "65957/65957 [==============================] - 24s 359us/step - loss: 1.1907 - acc: 0.6838 - val_loss: 7.4250 - val_acc: 0.1631\n",
            "Epoch 5/10\n",
            "65957/65957 [==============================] - 24s 360us/step - loss: 1.0787 - acc: 0.7176 - val_loss: 1.4166 - val_acc: 0.6543\n",
            "Epoch 6/10\n",
            "65957/65957 [==============================] - 24s 359us/step - loss: 1.0085 - acc: 0.7435 - val_loss: 13.9320 - val_acc: 0.0630\n",
            "Epoch 7/10\n",
            "65957/65957 [==============================] - 24s 360us/step - loss: 0.9595 - acc: 0.7640 - val_loss: 14.3415 - val_acc: 0.0532\n",
            "Epoch 8/10\n",
            "65957/65957 [==============================] - 24s 360us/step - loss: 0.9268 - acc: 0.7761 - val_loss: 13.2098 - val_acc: 0.0666\n",
            "Epoch 9/10\n",
            "65957/65957 [==============================] - 24s 360us/step - loss: 0.9018 - acc: 0.7855 - val_loss: 3.2499 - val_acc: 0.3465\n",
            "Epoch 10/10\n",
            "65957/65957 [==============================] - 24s 362us/step - loss: 0.8820 - acc: 0.7930 - val_loss: 5.1482 - val_acc: 0.3110\n",
            "dict_keys(['val_loss', 'val_acc', 'loss', 'acc'])\n"
          ],
          "name": "stdout"
        },
        {
          "output_type": "display_data",
          "data": {
            "image/png": "[encoded data removed]",
            "text/plain": [
              "<Figure size 432x288 with 1 Axes>"
            ]
          },
          "metadata": {
            "tags": []
          }
        },
        {
          "output_type": "display_data",
          "data": {
            "image/png": "[encoded data removed]",
            "text/plain": [
              "<Figure size 432x288 with 1 Axes>"
            ]
          },
          "metadata": {
            "tags": []
          }
        }
      ]
    },
    {
      "cell_type": "code",
      "metadata": {
        "id": "e1gnWSNHVldq",
        "colab_type": "code",
        "colab": {}
      },
      "source": [
        "data_file = '/content/drive/My Drive/pickles/test_berkeley_skeleton_images.pickle' # redefined varaible in case you have completed above steps previously.\n",
        "print('Trying to load pickle from %s' % data_file)\n",
        "with open(data_file, 'rb') as file:\n",
        "    svhn_datasets = pickle.load(file)\n",
        "    test_dataset = svhn_datasets['test_dataset']\n",
        "    \n",
        "print('Pickle Loaded Successfully!')\n",
        "del svhn_datasets\n",
        "x_test = test_dataset['X_test']\n",
        "\n",
        "x_all = np.asarray(x_test)\n",
        "Y = pd.read_csv('/content/drive/My Drive/y_test.csv', header=None).values\n",
        "print(x_all.shape)\n",
        "print(Y.shape)\n",
        "\n",
        "X=x_all.reshape(x_all.shape[0], x_all.shape[1], x_all.shape[2], 1)\n",
        "\n",
        "# Y = np.array(list(map(one_hot_vec, Y)))\n",
        "Y = keras.utils.to_categorical(Y, num_classes=11)\n",
        "print(X.shape)\n",
        "print(Y.shape)"
      ],
      "execution_count": 0,
      "outputs": []
    },
    {
      "cell_type": "code",
      "metadata": {
        "id": "ZDMnUvsjVvOs",
        "colab_type": "code",
        "colab": {}
      },
      "source": [
        "scores = model.evaluate(X, Y, batch_size=64, verbose=1)\n",
        "print('\\nTest result: %.3f loss: %.3f' % (scores[1]*100,scores[0]))"
      ],
      "execution_count": 0,
      "outputs": []
    },
    {
      "cell_type": "code",
      "metadata": {
        "id": "xTAatDxGgw04",
        "colab_type": "code",
        "colab": {}
      },
      "source": [
        "model_json = model.to_json()\n",
        "with open('drive/My Drive/models/alexnet_2.json', 'w') as json_file:\n",
        "    json_file.write(model_json)\n",
        "model.save_weights('drive/My Drive/models/alexnet_2.h5')"
      ],
      "execution_count": 0,
      "outputs": []
    }
  ]
}