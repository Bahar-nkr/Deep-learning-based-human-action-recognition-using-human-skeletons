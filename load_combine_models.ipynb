{
  "nbformat": 4,
  "nbformat_minor": 0,
  "metadata": {
    "colab": {
      "name": "load_combine_models.ipynb",
      "version": "0.3.2",
      "provenance": [],
      "collapsed_sections": []
    },
    "kernelspec": {
      "name": "python3",
      "display_name": "Python 3"
    }
  },
  "cells": [
    {
      "cell_type": "code",
      "metadata": {
        "id": "nySs-Y7qpS49",
        "colab_type": "code",
        "outputId": "6424ce88-de57-4553-954c-992bfad7152b",
        "colab": {
          "base_uri": "https://localhost:8080/",
          "height": 34
        }
      },
      "source": [
        "import cv2, os, keras, pickle\n",
        "import numpy as np\n",
        "import pandas as pd\n",
        "import matplotlib.pyplot as plt\n",
        "from keras.models import Sequential, Model, load_model, model_from_json\n",
        "from keras.layers import LSTM, Dense,Embedding, Dropout,Input, GRU, Conv1D, MaxPooling1D, Flatten, TimeDistributed, BatchNormalization, Conv2D, MaxPooling2D, Activation\n",
        "from keras import regularizers\n",
        "from keras.optimizers import *\n",
        "from keras.layers.merge import concatenate\n",
        "\n",
        "# from keras import backend as K\n",
        "# K.set_image_data_format('channels_first')"
      ],
      "execution_count": 0,
      "outputs": [
        {
          "output_type": "stream",
          "text": [
            "Using TensorFlow backend.\n"
          ],
          "name": "stderr"
        }
      ]
    },
    {
      "cell_type": "code",
      "metadata": {
        "id": "oIHff2vfpttI",
        "colab_type": "code",
        "outputId": "e618a889-b4cf-4938-f713-93f9f9a81970",
        "colab": {
          "base_uri": "https://localhost:8080/",
          "height": 105
        }
      },
      "source": [
        "from google.colab import drive\n",
        "drive.mount('/content/drive')"
      ],
      "execution_count": 0,
      "outputs": [
        {
          "output_type": "stream",
          "text": [
            "Go to this URL in a browser: https://accounts.google.com/o/oauth2/auth?client_id=947318989803-6bn6qk8qdgf4n4g3pfee6491hc0brc4i.apps.googleusercontent.com&redirect_uri=urn%3Aietf%3Awg%3Aoauth%3A2.0%3Aoob&scope=email%20https%3A%2F%2Fwww.googleapis.com%2Fauth%2Fdocs.test%20https%3A%2F%2Fwww.googleapis.com%2Fauth%2Fdrive%20https%3A%2F%2Fwww.googleapis.com%2Fauth%2Fdrive.photos.readonly%20https%3A%2F%2Fwww.googleapis.com%2Fauth%2Fpeopleapi.readonly&response_type=code\n",
            "\n",
            "Enter your authorization code:\n",
            "··········\n"
          ],
          "name": "stdout"
        }
      ]
    },
    {
      "cell_type": "code",
      "metadata": {
        "id": "xi30WUUcpgVT",
        "colab_type": "code",
        "outputId": "47831110-5b9f-4a1a-fec1-31fb34201a93",
        "colab": {
          "base_uri": "https://localhost:8080/",
          "height": 119
        }
      },
      "source": [
        "data_file = '/content/drive/My Drive/pickles/test_berkeley_skeleton_images.pickle' # redefined varaible in case you have completed above steps previously.\n",
        "print('Trying to load pickle from %s' % data_file)\n",
        "with open(data_file, 'rb') as file:\n",
        "    svhn_datasets = pickle.load(file)\n",
        "    train_dataset = svhn_datasets['test_dataset']\n",
        "print('Pickle Loaded Successfully!')\n",
        "X = train_dataset['X_test']\n",
        "X1 = np.asarray(X)\n",
        "X1 = X1.astype('float32') / np.float32(255)\n",
        "X1 = np.expand_dims(X1, axis=3)\n",
        "print(X1.shape)\n",
        "X2 = []\n",
        "X3 = []\n",
        "X4 = []\n",
        "for i in range (len(X)):\n",
        "  X2.append(cv2.resize(X[i], None, fx=0.5, fy=0.5, interpolation = cv2.INTER_AREA))\n",
        "  X3.append(cv2.resize(X[i], None, fx=0.25, fy=0.25, interpolation = cv2.INTER_AREA))\n",
        "  X4.append(cv2.resize(X[i], None, fx=0.125, fy=0.125, interpolation = cv2.INTER_AREA))\n",
        "\n",
        "X2 = np.asarray(X2)\n",
        "X2 = X2.astype('float32') / np.float32(255)\n",
        "X2 = np.expand_dims(X2, axis=3)\n",
        "print(X2.shape)\n",
        "X3 = np.asarray(X3)\n",
        "X3 = X3.astype('float32') / np.float32(255)\n",
        "X3 = np.expand_dims(X3, axis=3)\n",
        "print(X3.shape)\n",
        "X4 = np.asarray(X4)\n",
        "X4 = X4.astype('float32') / np.float32(255)\n",
        "X4 = np.expand_dims(X4, axis=3)\n",
        "print(X4.shape)"
      ],
      "execution_count": 0,
      "outputs": [
        {
          "output_type": "stream",
          "text": [
            "Trying to load pickle from /content/drive/My Drive/pickles/test_berkeley_skeleton_images.pickle\n",
            "Pickle Loaded Successfully!\n",
            "(63576, 64, 64, 1)\n",
            "(63576, 32, 32, 1)\n",
            "(63576, 16, 16, 1)\n",
            "(63576, 8, 8, 1)\n"
          ],
          "name": "stdout"
        }
      ]
    },
    {
      "cell_type": "code",
      "metadata": {
        "id": "BQFDL80OV7KL",
        "colab_type": "code",
        "colab": {}
      },
      "source": [
        ""
      ],
      "execution_count": 0,
      "outputs": []
    },
    {
      "cell_type": "code",
      "metadata": {
        "id": "Qy36BCSKppsO",
        "colab_type": "code",
        "outputId": "3aa9ca79-4ad2-4470-ea0c-452c9f5294fc",
        "colab": {
          "base_uri": "https://localhost:8080/",
          "height": 1000
        }
      },
      "source": [
        "num_list = [64, 32, 16, 8]\n",
        "loaded_models = []\n",
        "\n",
        "# for i in range (len(num_list)):\n",
        "json_file = open('/content/drive/My Drive/models/encoder_'+str(num_list[0])+'_1.json', 'r')\n",
        "loaded_model_json = json_file.read()\n",
        "json_file.close()\n",
        "loaded_model1 = model_from_json(loaded_model_json)\n",
        "loaded_model1.load_weights('/content/drive/My Drive/models/encoder_'+str(num_list[0])+'_1.h5')\n",
        "# loaded_model1.compile(loss = 'binary_crossentropy', optimizer='adadelta', metrics=['accuracy'])\n",
        "print(loaded_model1.summary())\n",
        "\n",
        "json_file = open('/content/drive/My Drive/models/encoder_'+str(num_list[1])+'_1.json', 'r')\n",
        "loaded_model_json = json_file.read()\n",
        "json_file.close()\n",
        "loaded_model2 = model_from_json(loaded_model_json)\n",
        "loaded_model2.load_weights('/content/drive/My Drive/models/encoder_'+str(num_list[1])+'_1.h5')\n",
        "# loaded_model2.compile(loss = 'binary_crossentropy', optimizer='adadelta', metrics=['accuracy'])\n",
        "print(loaded_model2.summary())\n",
        "\n",
        "json_file = open('/content/drive/My Drive/models/encoder_'+str(num_list[2])+'_1.json', 'r')\n",
        "loaded_model_json = json_file.read()\n",
        "json_file.close()\n",
        "loaded_model3 = model_from_json(loaded_model_json)\n",
        "loaded_model3.load_weights('/content/drive/My Drive/models/encoder_'+str(num_list[2])+'_1.h5')\n",
        "# loaded_model3.compile(loss = 'binary_crossentropy', optimizer='adadelta', metrics=['accuracy'])\n",
        "print(loaded_model3.summary())\n",
        "\n",
        "json_file = open('/content/drive/My Drive/models/encoder_'+str(num_list[3])+'_1.json', 'r')\n",
        "loaded_model_json = json_file.read()\n",
        "json_file.close()\n",
        "loaded_model4 = model_from_json(loaded_model_json)\n",
        "loaded_model4.load_weights('/content/drive/My Drive/models/encoder_'+str(num_list[3])+'_1.h5')\n",
        "# loaded_model4.compile(loss = 'binary_crossentropy', optimizer='adadelta', metrics=['accuracy'])\n",
        "print(loaded_model4.summary())\n",
        "\n",
        "# loaded_models.append(loaded_model)\n",
        "\n"
      ],
      "execution_count": 0,
      "outputs": [
        {
          "output_type": "stream",
          "text": [
            "_________________________________________________________________\n",
            "Layer (type)                 Output Shape              Param #   \n",
            "=================================================================\n",
            "input_9 (InputLayer)         (None, 64, 64, 1)         0         \n",
            "_________________________________________________________________\n",
            "conv2d_54 (Conv2D)           (None, 64, 64, 4)         40        \n",
            "_________________________________________________________________\n",
            "max_pooling2d_24 (MaxPooling (None, 32, 32, 4)         0         \n",
            "_________________________________________________________________\n",
            "conv2d_55 (Conv2D)           (None, 32, 32, 8)         296       \n",
            "_________________________________________________________________\n",
            "max_pooling2d_25 (MaxPooling (None, 16, 16, 8)         0         \n",
            "_________________________________________________________________\n",
            "conv2d_56 (Conv2D)           (None, 16, 16, 8)         584       \n",
            "_________________________________________________________________\n",
            "encoded (MaxPooling2D)       (None, 8, 8, 8)           0         \n",
            "_________________________________________________________________\n",
            "conv2d_57 (Conv2D)           (None, 8, 8, 8)           584       \n",
            "_________________________________________________________________\n",
            "up_sampling2d_22 (UpSampling (None, 16, 16, 8)         0         \n",
            "_________________________________________________________________\n",
            "conv2d_58 (Conv2D)           (None, 16, 16, 8)         584       \n",
            "_________________________________________________________________\n",
            "up_sampling2d_23 (UpSampling (None, 32, 32, 8)         0         \n",
            "_________________________________________________________________\n",
            "conv2d_59 (Conv2D)           (None, 32, 32, 4)         292       \n",
            "_________________________________________________________________\n",
            "up_sampling2d_24 (UpSampling (None, 64, 64, 4)         0         \n",
            "_________________________________________________________________\n",
            "decoded (Conv2D)             (None, 64, 64, 1)         37        \n",
            "=================================================================\n",
            "Total params: 2,417\n",
            "Trainable params: 2,417\n",
            "Non-trainable params: 0\n",
            "_________________________________________________________________\n",
            "None\n",
            "_________________________________________________________________\n",
            "Layer (type)                 Output Shape              Param #   \n",
            "=================================================================\n",
            "input_10 (InputLayer)        (None, 32, 32, 1)         0         \n",
            "_________________________________________________________________\n",
            "conv2d_60 (Conv2D)           (None, 32, 32, 4)         40        \n",
            "_________________________________________________________________\n",
            "max_pooling2d_26 (MaxPooling (None, 16, 16, 4)         0         \n",
            "_________________________________________________________________\n",
            "conv2d_61 (Conv2D)           (None, 16, 16, 8)         296       \n",
            "_________________________________________________________________\n",
            "max_pooling2d_27 (MaxPooling (None, 8, 8, 8)           0         \n",
            "_________________________________________________________________\n",
            "conv2d_62 (Conv2D)           (None, 8, 8, 8)           584       \n",
            "_________________________________________________________________\n",
            "encoded (MaxPooling2D)       (None, 4, 4, 8)           0         \n",
            "_________________________________________________________________\n",
            "conv2d_63 (Conv2D)           (None, 4, 4, 8)           584       \n",
            "_________________________________________________________________\n",
            "up_sampling2d_25 (UpSampling (None, 8, 8, 8)           0         \n",
            "_________________________________________________________________\n",
            "conv2d_64 (Conv2D)           (None, 8, 8, 8)           584       \n",
            "_________________________________________________________________\n",
            "up_sampling2d_26 (UpSampling (None, 16, 16, 8)         0         \n",
            "_________________________________________________________________\n",
            "conv2d_65 (Conv2D)           (None, 16, 16, 4)         292       \n",
            "_________________________________________________________________\n",
            "up_sampling2d_27 (UpSampling (None, 32, 32, 4)         0         \n",
            "_________________________________________________________________\n",
            "decoded (Conv2D)             (None, 32, 32, 1)         37        \n",
            "=================================================================\n",
            "Total params: 2,417\n",
            "Trainable params: 2,417\n",
            "Non-trainable params: 0\n",
            "_________________________________________________________________\n",
            "None\n",
            "_________________________________________________________________\n",
            "Layer (type)                 Output Shape              Param #   \n",
            "=================================================================\n",
            "input_11 (InputLayer)        (None, 16, 16, 1)         0         \n",
            "_________________________________________________________________\n",
            "conv2d_66 (Conv2D)           (None, 16, 16, 4)         40        \n",
            "_________________________________________________________________\n",
            "max_pooling2d_28 (MaxPooling (None, 8, 8, 4)           0         \n",
            "_________________________________________________________________\n",
            "conv2d_67 (Conv2D)           (None, 8, 8, 8)           296       \n",
            "_________________________________________________________________\n",
            "max_pooling2d_29 (MaxPooling (None, 4, 4, 8)           0         \n",
            "_________________________________________________________________\n",
            "conv2d_68 (Conv2D)           (None, 4, 4, 8)           584       \n",
            "_________________________________________________________________\n",
            "encoded (MaxPooling2D)       (None, 2, 2, 8)           0         \n",
            "_________________________________________________________________\n",
            "conv2d_69 (Conv2D)           (None, 2, 2, 8)           584       \n",
            "_________________________________________________________________\n",
            "up_sampling2d_28 (UpSampling (None, 4, 4, 8)           0         \n",
            "_________________________________________________________________\n",
            "conv2d_70 (Conv2D)           (None, 4, 4, 8)           584       \n",
            "_________________________________________________________________\n",
            "up_sampling2d_29 (UpSampling (None, 8, 8, 8)           0         \n",
            "_________________________________________________________________\n",
            "conv2d_71 (Conv2D)           (None, 8, 8, 4)           292       \n",
            "_________________________________________________________________\n",
            "up_sampling2d_30 (UpSampling (None, 16, 16, 4)         0         \n",
            "_________________________________________________________________\n",
            "decoded (Conv2D)             (None, 16, 16, 1)         37        \n",
            "=================================================================\n",
            "Total params: 2,417\n",
            "Trainable params: 2,417\n",
            "Non-trainable params: 0\n",
            "_________________________________________________________________\n",
            "None\n",
            "_________________________________________________________________\n",
            "Layer (type)                 Output Shape              Param #   \n",
            "=================================================================\n",
            "input_12 (InputLayer)        (None, 8, 8, 1)           0         \n",
            "_________________________________________________________________\n",
            "conv2d_72 (Conv2D)           (None, 8, 8, 4)           40        \n",
            "_________________________________________________________________\n",
            "max_pooling2d_30 (MaxPooling (None, 4, 4, 4)           0         \n",
            "_________________________________________________________________\n",
            "conv2d_73 (Conv2D)           (None, 4, 4, 8)           296       \n",
            "_________________________________________________________________\n",
            "max_pooling2d_31 (MaxPooling (None, 2, 2, 8)           0         \n",
            "_________________________________________________________________\n",
            "conv2d_74 (Conv2D)           (None, 2, 2, 8)           584       \n",
            "_________________________________________________________________\n",
            "encoded (MaxPooling2D)       (None, 1, 1, 8)           0         \n",
            "_________________________________________________________________\n",
            "conv2d_75 (Conv2D)           (None, 1, 1, 8)           584       \n",
            "_________________________________________________________________\n",
            "up_sampling2d_31 (UpSampling (None, 2, 2, 8)           0         \n",
            "_________________________________________________________________\n",
            "conv2d_76 (Conv2D)           (None, 2, 2, 8)           584       \n",
            "_________________________________________________________________\n",
            "up_sampling2d_32 (UpSampling (None, 4, 4, 8)           0         \n",
            "_________________________________________________________________\n",
            "conv2d_77 (Conv2D)           (None, 4, 4, 4)           292       \n",
            "_________________________________________________________________\n",
            "up_sampling2d_33 (UpSampling (None, 8, 8, 4)           0         \n",
            "_________________________________________________________________\n",
            "decoded (Conv2D)             (None, 8, 8, 1)           37        \n",
            "=================================================================\n",
            "Total params: 2,417\n",
            "Trainable params: 2,417\n",
            "Non-trainable params: 0\n",
            "_________________________________________________________________\n",
            "None\n"
          ],
          "name": "stdout"
        }
      ]
    },
    {
      "cell_type": "code",
      "metadata": {
        "id": "n9W307fvrLta",
        "colab_type": "code",
        "outputId": "b49afbcc-e5b4-4c03-c96f-86a9e32a25a5",
        "colab": {
          "base_uri": "https://localhost:8080/",
          "height": 969
        }
      },
      "source": [
        "layer_name = 'encoded'\n",
        "model1 = Model(inputs= loaded_model1.input, outputs=loaded_model1.get_layer(layer_name).output)\n",
        "\n",
        "input1 = Input(shape=(num_list[0],num_list[0],1),name = 'image_input1')\n",
        "modelI1 = model1(input1)\n",
        "x = Flatten(name = 'flat1')(modelI1)\n",
        "# # x = Dense(32, activation='elu')\n",
        "# # x = Dense(11, activation='softmax')(x)\n",
        "modelI1 = Model(inputs=input1, outputs=x)\n",
        "modelI1.compile(optimizer='adadelta', metrics=['accuracy'] ,loss='binary_crossentropy')\n",
        "print(modelI1.summary())\n",
        "\n",
        "\n",
        "model2 = Model(inputs= loaded_model2.input, outputs=loaded_model2.get_layer(layer_name).output)\n",
        "input2 = Input(shape=(num_list[1],num_list[1],1),name = 'image_input2')\n",
        "modelI2 = model1(input2)\n",
        "x = Flatten(name = 'flat2')(modelI2)\n",
        "# # x = Dense(32, activation='elu')\n",
        "# # x = Dense(11, activation='softmax')(x)\n",
        "modelI2 = Model(inputs=input2, outputs=x)\n",
        "modelI2.compile(optimizer='adadelta', metrics=['accuracy'] ,loss='binary_crossentropy')\n",
        "print(modelI2.summary())\n",
        "\n",
        "model3 = Model(inputs= loaded_model3.input, outputs=loaded_model3.get_layer(layer_name).output)\n",
        "input3 = Input(shape=(num_list[2],num_list[2],1),name = 'image_input3')\n",
        "modelI3 = model1(input3)\n",
        "x = Flatten(name = 'flat3')(modelI3)\n",
        "# # x = Dense(32, activation='elu')\n",
        "# # x = Dense(11, activation='softmax')(x)\n",
        "modelI3 = Model(inputs=input3, outputs=x)\n",
        "modelI3.compile(optimizer='adadelta', metrics=['accuracy'] ,loss='binary_crossentropy')\n",
        "print(modelI3.summary())\n",
        "\n",
        "model4 = Model(inputs= loaded_model4.input, outputs=loaded_model4.get_layer(layer_name).output)\n",
        "input4 = Input(shape=(num_list[3],num_list[3],1),name = 'image_input4')\n",
        "modelI4 = model1(input4)\n",
        "x = Flatten(name = 'flat4')(modelI4)\n",
        "# # x = Dense(32, activation='elu')\n",
        "# # x = Dense(11, activation='softmax')(x)\n",
        "modelI4 = Model(inputs=input4, outputs=x)\n",
        "modelI4.compile(optimizer='adadelta', metrics=['accuracy'] ,loss='binary_crossentropy')\n",
        "print(modelI4.summary())\n"
      ],
      "execution_count": 0,
      "outputs": [
        {
          "output_type": "stream",
          "text": [
            "_________________________________________________________________\n",
            "Layer (type)                 Output Shape              Param #   \n",
            "=================================================================\n",
            "image_input1 (InputLayer)    (None, 64, 64, 1)         0         \n",
            "_________________________________________________________________\n",
            "model_79 (Model)             (None, 8, 8, 8)           920       \n",
            "_________________________________________________________________\n",
            "flat1 (Flatten)              (None, 512)               0         \n",
            "=================================================================\n",
            "Total params: 920\n",
            "Trainable params: 920\n",
            "Non-trainable params: 0\n",
            "_________________________________________________________________\n",
            "None\n",
            "_________________________________________________________________\n",
            "Layer (type)                 Output Shape              Param #   \n",
            "=================================================================\n",
            "image_input2 (InputLayer)    (None, 32, 32, 1)         0         \n",
            "_________________________________________________________________\n",
            "model_79 (Model)             multiple                  920       \n",
            "_________________________________________________________________\n",
            "flat2 (Flatten)              (None, 128)               0         \n",
            "=================================================================\n",
            "Total params: 920\n",
            "Trainable params: 920\n",
            "Non-trainable params: 0\n",
            "_________________________________________________________________\n",
            "None\n",
            "_________________________________________________________________\n",
            "Layer (type)                 Output Shape              Param #   \n",
            "=================================================================\n",
            "image_input3 (InputLayer)    (None, 16, 16, 1)         0         \n",
            "_________________________________________________________________\n",
            "model_79 (Model)             multiple                  920       \n",
            "_________________________________________________________________\n",
            "flat3 (Flatten)              (None, 32)                0         \n",
            "=================================================================\n",
            "Total params: 920\n",
            "Trainable params: 920\n",
            "Non-trainable params: 0\n",
            "_________________________________________________________________\n",
            "None\n",
            "_________________________________________________________________\n",
            "Layer (type)                 Output Shape              Param #   \n",
            "=================================================================\n",
            "image_input4 (InputLayer)    (None, 8, 8, 1)           0         \n",
            "_________________________________________________________________\n",
            "model_79 (Model)             multiple                  920       \n",
            "_________________________________________________________________\n",
            "flat4 (Flatten)              (None, 8)                 0         \n",
            "=================================================================\n",
            "Total params: 920\n",
            "Trainable params: 920\n",
            "Non-trainable params: 0\n",
            "_________________________________________________________________\n",
            "None\n"
          ],
          "name": "stdout"
        }
      ]
    },
    {
      "cell_type": "code",
      "metadata": {
        "id": "VkohmMseXU84",
        "colab_type": "code",
        "outputId": "c39ebdfa-2c67-4531-df4a-81c5ee215799",
        "colab": {
          "base_uri": "https://localhost:8080/",
          "height": 34
        }
      },
      "source": [
        "y = pd.read_csv('drive/My Drive/y_test.csv', header=None).values\n",
        "Y = keras.utils.to_categorical(y, num_classes=11)\n",
        "print(Y.shape)"
      ],
      "execution_count": 0,
      "outputs": [
        {
          "output_type": "stream",
          "text": [
            "(63576, 11)\n"
          ],
          "name": "stdout"
        }
      ]
    },
    {
      "cell_type": "code",
      "metadata": {
        "id": "biNiDcdsZudg",
        "colab_type": "code",
        "outputId": "4a92529e-68a5-4142-f84d-afdc39dd1709",
        "colab": {
          "base_uri": "https://localhost:8080/",
          "height": 34
        }
      },
      "source": [
        "print(X1.shape)"
      ],
      "execution_count": 0,
      "outputs": [
        {
          "output_type": "stream",
          "text": [
            "(63576, 64, 64, 1)\n"
          ],
          "name": "stdout"
        }
      ]
    },
    {
      "cell_type": "code",
      "metadata": {
        "id": "uWnNq7Xvq9xQ",
        "colab_type": "code",
        "outputId": "60c96813-d1b2-4c0c-f9a6-39e5140ca52c",
        "colab": {
          "base_uri": "https://localhost:8080/",
          "height": 765
        }
      },
      "source": [
        "layer_name1 = 'flat1'\n",
        "layer_name2 = 'flat2'\n",
        "layer_name3 = 'flat3'\n",
        "layer_name4 = 'flat4'\n",
        "concat = concatenate([modelI1.get_layer(layer_name1).output, modelI2.get_layer(layer_name2).output, modelI3.get_layer(layer_name3).output, modelI4.get_layer(layer_name4).output], axis=-1)\n",
        "\n",
        "x = Dense(11, activation='softmax', name='output_layer')(concat)\n",
        "modelF = Model(inputs=[input1,input2, input3, input4], outputs=x)\n",
        "# opt = adam(lr = 0.0001)\n",
        "modelF.compile(optimizer='adadelta', metrics=['accuracy'] ,loss='binary_crossentropy')\n",
        "print(modelF.summary())\n",
        "\n",
        "print(len(modelI1.layers))\n",
        "print(len(modelI2.layers))\n",
        "print(len(modelI3.layers))\n",
        "print(len(modelI4.layers))\n",
        "\n",
        "print(len(modelF.layers))\n",
        "scores = modelF.evaluate([X1,X2, X3,X4], [Y], batch_size=64, verbose=1)\n",
        "# print(scores)\n",
        "print('\\nTest result: %.3f loss: %.3f' % (scores[1]*100,scores[0]))\n"
      ],
      "execution_count": 0,
      "outputs": [
        {
          "output_type": "stream",
          "text": [
            "__________________________________________________________________________________________________\n",
            "Layer (type)                    Output Shape         Param #     Connected to                     \n",
            "==================================================================================================\n",
            "image_input1 (InputLayer)       (None, 64, 64, 1)    0                                            \n",
            "__________________________________________________________________________________________________\n",
            "image_input2 (InputLayer)       (None, 32, 32, 1)    0                                            \n",
            "__________________________________________________________________________________________________\n",
            "image_input3 (InputLayer)       (None, 16, 16, 1)    0                                            \n",
            "__________________________________________________________________________________________________\n",
            "image_input4 (InputLayer)       (None, 8, 8, 1)      0                                            \n",
            "__________________________________________________________________________________________________\n",
            "model_79 (Model)                multiple             920         image_input1[0][0]               \n",
            "                                                                 image_input2[0][0]               \n",
            "                                                                 image_input3[0][0]               \n",
            "                                                                 image_input4[0][0]               \n",
            "__________________________________________________________________________________________________\n",
            "flat1 (Flatten)                 (None, 512)          0           model_79[1][0]                   \n",
            "__________________________________________________________________________________________________\n",
            "flat2 (Flatten)                 (None, 128)          0           model_79[2][0]                   \n",
            "__________________________________________________________________________________________________\n",
            "flat3 (Flatten)                 (None, 32)           0           model_79[3][0]                   \n",
            "__________________________________________________________________________________________________\n",
            "flat4 (Flatten)                 (None, 8)            0           model_79[4][0]                   \n",
            "__________________________________________________________________________________________________\n",
            "concatenate_19 (Concatenate)    (None, 680)          0           flat1[0][0]                      \n",
            "                                                                 flat2[0][0]                      \n",
            "                                                                 flat3[0][0]                      \n",
            "                                                                 flat4[0][0]                      \n",
            "__________________________________________________________________________________________________\n",
            "output_layer (Dense)            (None, 11)           7491        concatenate_19[0][0]             \n",
            "==================================================================================================\n",
            "Total params: 8,411\n",
            "Trainable params: 8,411\n",
            "Non-trainable params: 0\n",
            "__________________________________________________________________________________________________\n",
            "None\n",
            "3\n",
            "3\n",
            "3\n",
            "3\n",
            "11\n",
            "63576/63576 [==============================] - 69s 1ms/step\n",
            "\n",
            "Test result: 90.444 loss: 0.337\n"
          ],
          "name": "stdout"
        }
      ]
    },
    {
      "cell_type": "code",
      "metadata": {
        "id": "fGODeah3sfZl",
        "colab_type": "code",
        "colab": {}
      },
      "source": [
        ""
      ],
      "execution_count": 0,
      "outputs": []
    }
  ]
}